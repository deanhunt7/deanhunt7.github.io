import matplotlib as mpl
import matplotlib.pyplot as plt
import numpy as np
import random
import math

x = np.linspace(0, 8, 100)  # Sample data.

# Note that even in the OO-style, we use `.pyplot.figure` to create the Figure.
fig, ax = plt.subplots(figsize=(5, 2.7), layout='constrained')
ax.plot(x, x**2, label='quadratic')  # ... and some more.

rand_points = []
for a in range(0, 81):
    rand = math.pow(a/10, 2) + random.uniform(-10,10)
    rand_points.append(rand)
    ax.plot(a/10, rand, 'bo')

print(rand_points)

estimate = random.uniform(-10, 10)
print(estimate)
sensor_err = 20
estimate_err = 20

def calculate_gain(est_err, mea_err):
    print("gain est:", est_err)
    print("gain mea:", mea_err)
    return (est_err)/(est_err + mea_err)

def estimate_kalman(old_est, gain, measurement):
    # print("ol est", old_est)
    return old_est + gain*(measurement - old_est)

def calculate_err(gain, old_err):
    return (1-gain)*old_err + 1
    # return (1-gain)*old_err + random.uniform(0,1.5)
# def calculate_err(mea_err, old_err):
#     return (mea_err*old_err)/(mea_err + old_err)

ax.plot(0, estimate, 'ro')
for a in range(1, 81):
    gain = calculate_gain(estimate_err, sensor_err)
    # print("gain", gain)
    estimate = estimate_kalman(estimate, gain, rand_points[a])
    # print(estimate)

    estimate_err = calculate_err(gain, estimate_err)

    # print("esterr", estimate_err)
    # print()
    ax.plot(a/10, estimate, 'ro')


